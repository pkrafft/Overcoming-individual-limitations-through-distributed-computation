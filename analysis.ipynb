{
 "cells": [
  {
   "cell_type": "code",
   "execution_count": 347,
   "metadata": {
    "collapsed": false
   },
   "outputs": [],
   "source": [
    "%matplotlib inline\n",
    "\n",
    "import matplotlib.pyplot as plt\n",
    "import seaborn as sns\n",
    "\n",
    "import numpy as np\n",
    "import pandas as pd\n",
    "import scipy.stats as stats\n",
    "\n",
    "import utils\n",
    "\n",
    "import importlib\n",
    "importlib.reload(utils)\n",
    "\n",
    "import os"
   ]
  },
  {
   "cell_type": "markdown",
   "metadata": {},
   "source": [
    "# Read Data"
   ]
  },
  {
   "cell_type": "code",
   "execution_count": null,
   "metadata": {
    "collapsed": false
   },
   "outputs": [],
   "source": []
  },
  {
   "cell_type": "code",
   "execution_count": null,
   "metadata": {
    "collapsed": false
   },
   "outputs": [],
   "source": []
  },
  {
   "cell_type": "code",
   "execution_count": 348,
   "metadata": {
    "collapsed": false
   },
   "outputs": [],
   "source": [
    "#in_dir = '70f80fdf-rounds-10-evidence-1-population-5'\n",
    "#in_dir = 'abf00068-rounds-10-evidence-4-population-5'\n",
    "#in_dir = 'd75786f7-data-2018-01-25-big-experiment'\n",
    "#in_dir = '18a75a2d-data-2018-03-19-big-experiment'\n",
    "#in_dir = '6b2b35f0-3a65-d0a8-cb49-b2b6e4041562-rounds-10-evidence-1-bit-experiment'\n",
    "\n",
    "#in_dir = 'd9145d2a-rounds-10-evidence-1-population-5'\n",
    "#in_dir = 'b7d0390f-rounds-10-evidence-4-population-5'\n",
    "\n",
    "n_evidence = 4\n",
    "base_prob = 0.6\n",
    "\n",
    "data,fails,parts = utils.get_data(in_dir, n_evidence)"
   ]
  },
  {
   "cell_type": "code",
   "execution_count": 349,
   "metadata": {
    "collapsed": false
   },
   "outputs": [
    {
     "data": {
      "text/plain": [
       "24"
      ]
     },
     "execution_count": 349,
     "metadata": {},
     "output_type": "execute_result"
    }
   ],
   "source": [
    "len(data)"
   ]
  },
  {
   "cell_type": "code",
   "execution_count": 350,
   "metadata": {
    "collapsed": false
   },
   "outputs": [],
   "source": [
    "#data = data[data['turn'] <= 3]"
   ]
  },
  {
   "cell_type": "code",
   "execution_count": 351,
   "metadata": {
    "collapsed": false
   },
   "outputs": [],
   "source": [
    "#fails = utils.get_evidence_subset(fails, n_evidence)"
   ]
  },
  {
   "cell_type": "code",
   "execution_count": 352,
   "metadata": {
    "collapsed": false
   },
   "outputs": [],
   "source": [
    "#data = data[data['net'] > 3]"
   ]
  },
  {
   "cell_type": "code",
   "execution_count": 353,
   "metadata": {
    "collapsed": false
   },
   "outputs": [
    {
     "data": {
      "text/plain": [
       "12    False\n",
       "13    False\n",
       "14    False\n",
       "15    False\n",
       "17    False\n",
       "18    False\n",
       "19    False\n",
       "20    False\n",
       "21    False\n",
       "22    False\n",
       "23    False\n",
       "24    False\n",
       "25    False\n",
       "28    False\n",
       "29    False\n",
       "30    False\n",
       "33    False\n",
       "34    False\n",
       "37    False\n",
       "38    False\n",
       "39    False\n",
       "42    False\n",
       "46    False\n",
       "47    False\n",
       "Name: turn, dtype: bool"
      ]
     },
     "execution_count": 353,
     "metadata": {},
     "output_type": "execute_result"
    }
   ],
   "source": [
    "data['turn'] == 9"
   ]
  },
  {
   "cell_type": "code",
   "execution_count": 354,
   "metadata": {
    "collapsed": false
   },
   "outputs": [
    {
     "name": "stdout",
     "output_type": "stream",
     "text": [
      "Participants on turn 1: 1.0\n",
      "Participants on turn 2: 1.0\n",
      "Participants on turn 3: 1.0\n",
      "Participants on turn 4: 1.0\n",
      "Participants on turn 5: 0.0\n",
      "Participants on turn 6: 0.0\n",
      "Participants on turn 7: 0.0\n",
      "Participants on turn 8: 0.0\n",
      "Participants on turn 9: 0.0\n",
      "Participants on turn 10: 0.0\n"
     ]
    }
   ],
   "source": [
    "for i in range(1,11):\n",
    "    print('Participants on turn ' + str(i) + ':', sum(data['turn'] == i)/4)"
   ]
  },
  {
   "cell_type": "code",
   "execution_count": 355,
   "metadata": {
    "collapsed": true
   },
   "outputs": [],
   "source": [
    "#data = sim_data"
   ]
  },
  {
   "cell_type": "markdown",
   "metadata": {},
   "source": [
    "# Analyze Evidence"
   ]
  },
  {
   "cell_type": "code",
   "execution_count": 356,
   "metadata": {
    "collapsed": false
   },
   "outputs": [
    {
     "name": "stdout",
     "output_type": "stream",
     "text": [
      "Net 4\n",
      "[[ 0.5   0.5   0.25  0.75  0.25  1.    0.    0.75]\n",
      " [ 0.5   0.5   0.75  0.75  0.5   0.25  0.25  0.75]\n",
      " [ 0.5   0.5   0.5   0.5   0.25  0.25  1.    0.25]]\n",
      "[[ 0.5   0.5   0.25  0.75  0.25  1.    0.    0.75]\n",
      " [ 0.5   0.5   0.5   0.75  0.37  0.62  0.12  0.75]\n",
      " [ 0.5   0.5   0.5   0.66  0.33  0.5   0.41  0.58]]\n",
      "[ 0.  0.  1.  0.  0.  1.  0.  1.]\n",
      "[ 0.  0.  1.  0.  0.  1.  0.  1.]\n",
      "[ 1.  1.  1.  1.  1.  0.  1.  1.]\n",
      "[ 0.  1.  1.  0.  1.  1.  1.  0.]\n",
      "Final correlation with last 1 evidence 0.174077655956\n",
      "Final correlation with last 2 evidence -0.258198889747\n",
      "Final correlation with last 3 evidence -0.692820323028\n",
      "Net 5\n",
      "[[ 0.75  0.5   0.25  0.25  0.5   0.75  0.5   0.75]\n",
      " [ 0.25  0.25  0.75  0.25  0.5   1.    0.5   1.  ]\n",
      " [ 0.5   0.25  0.75  0.5   0.    1.    0.5   0.25]]\n",
      "[[ 0.75  0.5   0.25  0.25  0.5   0.75  0.5   0.75]\n",
      " [ 0.5   0.37  0.5   0.25  0.5   0.87  0.5   0.87]\n",
      " [ 0.5   0.33  0.58  0.33  0.33  0.91  0.5   0.66]]\n",
      "[ 0.  1.  0.  0.  1.  0.  1.  0.]\n",
      "[ 1.  1.  1.  1.  1.  1.  1.  1.]\n",
      "[ 0.  1.  1.  0.  1.  1.  1.  1.]\n",
      "[ 1.  0.  0.  1.  0.  1.  1.  1.]\n",
      "Final correlation with last 1 evidence 0.359863746033\n",
      "Final correlation with last 2 evidence 0.31214723679\n",
      "Final correlation with last 3 evidence 0.425115150949\n",
      "Net 6\n",
      "[[ 0.5   0.75  0.25  0.25  0.5   0.75  0.75  0.5 ]\n",
      " [ 0.75  0.25  0.5   0.25  0.25  0.5   0.5   0.25]\n",
      " [ 0.75  0.5   0.25  0.75  0.25  0.    0.5   0.5 ]]\n",
      "[[ 0.5   0.75  0.25  0.25  0.5   0.75  0.75  0.5 ]\n",
      " [ 0.62  0.5   0.37  0.25  0.37  0.62  0.62  0.37]\n",
      " [ 0.66  0.5   0.33  0.41  0.33  0.41  0.58  0.41]]\n",
      "[ 1.  0.  0.  1.  0.  0.  0.  1.]\n",
      "[ 1.  1.  1.  1.  1.  1.  1.  1.]\n",
      "[ 1.  1.  1.  1.  1.  1.  1.  1.]\n",
      "[ 1.  0.  0.  1.  1.  0.  0.  0.]\n",
      "Final correlation with last 1 evidence 0.466666666667\n",
      "Final correlation with last 2 evidence 0.39735970712\n",
      "Final correlation with last 3 evidence 0.0975900072949\n",
      "Net 7\n",
      "[[ 0.5   0.5   0.5   0.    0.    0.    0.5   0.5 ]\n",
      " [ 0.75  0.5   0.    0.5   0.5   0.5   0.25  0.25]\n",
      " [ 1.    0.25  0.5   0.    0.25  0.5   0.5   0.75]]\n",
      "[[ 0.5   0.5   0.5   0.    0.    0.    0.5   0.5 ]\n",
      " [ 0.62  0.5   0.25  0.25  0.25  0.25  0.37  0.37]\n",
      " [ 0.75  0.41  0.33  0.16  0.25  0.33  0.41  0.5 ]]\n",
      "[ 0.  0.  0.  1.  0.  1.  1.  0.]\n",
      "[ 0.  1.  1.  1.  1.  1.  1.  1.]\n",
      "[ 1.  1.  0.  1.  1.  1.  0.  0.]\n",
      "[ 1.  0.  1.  0.  0.  1.  1.  1.]\n",
      "Final correlation with last 1 evidence 0.802772971919\n",
      "Final correlation with last 2 evidence 0.430331482912\n",
      "Final correlation with last 3 evidence 0.553010041338\n"
     ]
    },
    {
     "name": "stderr",
     "output_type": "stream",
     "text": [
      "/home/appreciate/Dropbox (MIT)/rumor-spreading-modeling/experiments/dallinger/spaceship-v2/utils.py:132: FutureWarning: pd.rolling_sum is deprecated for ndarrays and will be removed in a future version\n",
      "  net_evidence[i] = pd.rolling_sum(evidence, i, 1)\n"
     ]
    }
   ],
   "source": [
    "last_perfs = []\n",
    "last_pops = []\n",
    "pops = []\n",
    "evidences = []\n",
    "net_evidences = []\n",
    "final_pops = []\n",
    "nets = []\n",
    "probs = []\n",
    "posteriors = []\n",
    "\n",
    "num_turns = max(data['turn'])\n",
    "\n",
    "for net in sorted(set(data['net'])):\n",
    "    \n",
    "    raw_evidence,net_evidence,posterior = utils.get_evidence(fails[net], base_prob)\n",
    "    \n",
    "    print('Net', net)\n",
    "    print(net_evidence[1][:(num_turns-1)])\n",
    "    print(np.array(net_evidence[num_turns][:(num_turns-1)] * 100,dtype=int)/100.0)\n",
    "    \n",
    "    for t in range(num_turns+1):\n",
    "        \n",
    "        if t > 1:\n",
    "            last_perfs += list(net_evidence[num_turns][t-2])\n",
    "            last_pops += list(mean_pop)\n",
    "        \n",
    "        if t > 0:    \n",
    "            mean_pop = utils.get_pop(data,net,t)\n",
    "            print(mean_pop)\n",
    "            \n",
    "        if t > 1:\n",
    "            pops += list(mean_pop)\n",
    "\n",
    "    for window in range(1,num_turns):\n",
    "        print('Final correlation with last',window,'evidence', np.corrcoef(net_evidence[window][t-2],mean_pop)[0,1])\n",
    "\n",
    "    evidences += list(net_evidence[1][t-2])\n",
    "    net_evidences += list(net_evidence[num_turns][t-2])\n",
    "    final_pops += list(mean_pop)\n",
    "    nets += [net] * len(list(mean_pop))\n",
    "    probs += list(parts[net])\n",
    "    posteriors += list(posterior[num_turns][t-2])"
   ]
  },
  {
   "cell_type": "code",
   "execution_count": 357,
   "metadata": {
    "collapsed": true
   },
   "outputs": [],
   "source": [
    "colors = np.array(['']*len(probs))\n",
    "colors[np.array(probs) > 0.5] = 'blue'\n",
    "colors[np.array(probs) <= 0.5] = 'red'"
   ]
  },
  {
   "cell_type": "code",
   "execution_count": 358,
   "metadata": {
    "collapsed": false
   },
   "outputs": [
    {
     "data": {
      "text/plain": [
       "<matplotlib.text.Text at 0x7fd14d899550>"
      ]
     },
     "execution_count": 358,
     "metadata": {},
     "output_type": "execute_result"
    },
    {
     "data": {
      "image/png": "[encoded data removed]",
      "text/plain": [
       "<matplotlib.figure.Figure at 0x7fd14d8d0f60>"
      ]
     },
     "metadata": {},
     "output_type": "display_data"
    }
   ],
   "source": [
    "sns.set(context = 'paper', font_scale = 3, font='serif', style = 'white',  rc={\"lines.linewidth\": 2.5})\n",
    "plt.scatter(evidences,final_pops,s=50,alpha=0.25,c=colors)\n",
    "plt.xlabel('Last Evidence')\n",
    "plt.ylabel('Popularity')\n",
    "plt.title('Spaceship Part Popularity')\n",
    "#plt.savefig('choice-evidence.jpg', bbox_inches = 'tight')"
   ]
  },
  {
   "cell_type": "code",
   "execution_count": 359,
   "metadata": {
    "collapsed": false
   },
   "outputs": [
    {
     "data": {
      "text/plain": [
       "array([[ 1.       ,  0.1379233],\n",
       "       [ 0.1379233,  1.       ]])"
      ]
     },
     "execution_count": 359,
     "metadata": {},
     "output_type": "execute_result"
    }
   ],
   "source": [
    "np.corrcoef(posteriors,final_pops)"
   ]
  },
  {
   "cell_type": "code",
   "execution_count": 360,
   "metadata": {
    "collapsed": false
   },
   "outputs": [
    {
     "data": {
      "text/plain": [
       "array([[ 1.        ,  0.19762338],\n",
       "       [ 0.19762338,  1.        ]])"
      ]
     },
     "execution_count": 360,
     "metadata": {},
     "output_type": "execute_result"
    }
   ],
   "source": [
    "np.corrcoef(net_evidences,final_pops)"
   ]
  },
  {
   "cell_type": "code",
   "execution_count": 361,
   "metadata": {
    "collapsed": false
   },
   "outputs": [
    {
     "data": {
      "text/plain": [
       "array([[ 1.       ,  0.4625919],\n",
       "       [ 0.4625919,  1.       ]])"
      ]
     },
     "execution_count": 361,
     "metadata": {},
     "output_type": "execute_result"
    }
   ],
   "source": [
    "np.corrcoef(evidences,final_pops)"
   ]
  },
  {
   "cell_type": "code",
   "execution_count": 362,
   "metadata": {
    "collapsed": false
   },
   "outputs": [
    {
     "data": {
      "text/plain": [
       "array([[ 1.     ,  0.03253],\n",
       "       [ 0.03253,  1.     ]])"
      ]
     },
     "execution_count": 362,
     "metadata": {},
     "output_type": "execute_result"
    }
   ],
   "source": [
    "np.corrcoef([x for i in range(4,8) for x in parts[i]],final_pops)"
   ]
  },
  {
   "cell_type": "code",
   "execution_count": 363,
   "metadata": {
    "collapsed": false
   },
   "outputs": [
    {
     "name": "stderr",
     "output_type": "stream",
     "text": [
      "/home/appreciate/Dropbox (MIT)/rumor-spreading-modeling/experiments/dallinger/spaceship-v2/utils.py:132: FutureWarning: pd.rolling_sum is deprecated for ndarrays and will be removed in a future version\n",
      "  net_evidence[i] = pd.rolling_sum(evidence, i, 1)\n"
     ]
    },
    {
     "data": {
      "text/plain": [
       "array([[ 1.       ,  0.4625919],\n",
       "       [ 0.4625919,  1.       ]])"
      ]
     },
     "execution_count": 363,
     "metadata": {},
     "output_type": "execute_result"
    }
   ],
   "source": [
    "np.corrcoef([x for net in range(4,8) for x in utils.get_evidence(fails[net], base_prob)[1][1][num_turns-2] ],final_pops)"
   ]
  },
  {
   "cell_type": "code",
   "execution_count": 364,
   "metadata": {
    "collapsed": false
   },
   "outputs": [
    {
     "data": {
      "text/plain": [
       "<matplotlib.text.Text at 0x7fd14d817470>"
      ]
     },
     "execution_count": 364,
     "metadata": {},
     "output_type": "execute_result"
    },
    {
     "data": {
      "image/png": "[encoded data removed]",
      "text/plain": [
       "<matplotlib.figure.Figure at 0x7fd14d8ddb38>"
      ]
     },
     "metadata": {},
     "output_type": "display_data"
    }
   ],
   "source": [
    "sns.set(context = 'paper', font_scale = 3, font='serif', style = 'white',  rc={\"lines.linewidth\": 2.5})\n",
    "plt.scatter(posteriors,final_pops,s=50,alpha=0.25,c=colors)\n",
    "plt.xlabel('Posterior')\n",
    "plt.ylabel('Popularity')\n",
    "plt.title('Spaceship Part Popularity')\n",
    "#plt.savefig('choice-evidence.jpg', bbox_inches = 'tight')"
   ]
  },
  {
   "cell_type": "code",
   "execution_count": 365,
   "metadata": {
    "collapsed": false
   },
   "outputs": [
    {
     "data": {
      "text/plain": [
       "(-0.066259813769006359, 1.0662598137690067)"
      ]
     },
     "execution_count": 365,
     "metadata": {},
     "output_type": "execute_result"
    },
    {
     "data": {
      "image/png": "[encoded data removed]",
      "text/plain": [
       "<matplotlib.figure.Figure at 0x7fd14d8a5d68>"
      ]
     },
     "metadata": {},
     "output_type": "display_data"
    }
   ],
   "source": [
    "sns.set(context = 'paper', font_scale = 2, font='serif', style = 'white',  rc={\"lines.linewidth\": 2.5})\n",
    "\n",
    "fig, ax = plt.subplots()\n",
    "\n",
    "plt.scatter(net_evidences,final_pops,s=50,alpha=0.5,c=colors)\n",
    "plt.xlabel('Total Evidence')\n",
    "plt.ylabel('Popularity')\n",
    "plt.title('Spaceship Part Popularity')\n",
    "plt.savefig('pop-evidence.jpg', bbox_inches = 'tight')\n",
    "\n",
    "\n",
    "lims = [\n",
    "        np.min([ax.get_xlim(), ax.get_ylim()]),  # min of both axes                                                                               \n",
    "              np.max([ax.get_xlim(), ax.get_ylim()]),  # max of both axes                                                                         \n",
    "              ]\n",
    "\n",
    "ax.plot(lims, lims, 'k-', alpha=0.1, zorder=0)\n",
    "ax.set_aspect('equal')\n",
    "ax.set_xlim(lims)\n",
    "ax.set_ylim(lims)\n"
   ]
  },
  {
   "cell_type": "code",
   "execution_count": 366,
   "metadata": {
    "collapsed": false
   },
   "outputs": [],
   "source": [
    "pd.DataFrame({'evidence':net_evidences,'popularity':final_pops, 'game':nets}).to_csv('evidence-pops.csv')"
   ]
  },
  {
   "cell_type": "code",
   "execution_count": 367,
   "metadata": {
    "collapsed": false
   },
   "outputs": [],
   "source": [
    "os.system('Rscript analyze.R > tmp')\n",
    "with open('tmp') as f:\n",
    "    for l in f.readlines():\n",
    "        print(l)"
   ]
  },
  {
   "cell_type": "code",
   "execution_count": 368,
   "metadata": {
    "collapsed": false
   },
   "outputs": [
    {
     "data": {
      "text/plain": [
       "<matplotlib.legend.Legend at 0x7fd14d6ea278>"
      ]
     },
     "execution_count": 368,
     "metadata": {},
     "output_type": "execute_result"
    },
    {
     "data": {
      "image/png": "[encoded data removed]",
      "text/plain": [
       "<matplotlib.figure.Figure at 0x7fd14d931240>"
      ]
     },
     "metadata": {},
     "output_type": "display_data"
    }
   ],
   "source": [
    "sns.set(context = 'paper', font_scale = 3, font='serif', style = 'white',  rc={\"lines.linewidth\": 2.5})\n",
    "sns.pointplot(last_pops,pops,np.array(last_perfs) > 0.5)\n",
    "plt.xlabel('Last Popularity')\n",
    "plt.ylabel('Next Popularity')\n",
    "plt.title('Spaceship Part Popularity')\n",
    "plt.legend(bbox_to_anchor=(1.05, 1), loc=2, borderaxespad=0., title = 'Performance > 0.5')\n",
    "#plt.savefig('choice-evidence.jpg', bbox_inches = 'tight')"
   ]
  },
  {
   "cell_type": "code",
   "execution_count": 369,
   "metadata": {
    "collapsed": false
   },
   "outputs": [
    {
     "data": {
      "text/plain": [
       "array([ 0.,  0.,  0.,  0.,  0.,  1.,  1.,  1.,  1.,  1.,  1.,  1.,  1.,\n",
       "        1.,  1.,  1.,  1.,  1.,  1.,  1.,  1.,  1.,  1.,  0.,  1.,  1.,\n",
       "        1.,  1.,  1.,  1.,  1.,  1.])"
      ]
     },
     "execution_count": 369,
     "metadata": {},
     "output_type": "execute_result"
    }
   ],
   "source": [
    "np.array(pops)[np.array(last_pops) == 0]"
   ]
  },
  {
   "cell_type": "code",
   "execution_count": null,
   "metadata": {
    "collapsed": false
   },
   "outputs": [],
   "source": []
  },
  {
   "cell_type": "markdown",
   "metadata": {},
   "source": [
    "# Analyze Reward"
   ]
  },
  {
   "cell_type": "code",
   "execution_count": 370,
   "metadata": {
    "collapsed": false
   },
   "outputs": [],
   "source": [
    "rewards = []\n",
    "\n",
    "for net in sorted(set(data['net'])):\n",
    "    \n",
    "    rewards += [[]]\n",
    "    for t in range(num_turns+1):\n",
    "\n",
    "        if t > 0:\n",
    "            rewards[-1] += [utils.get_reward(data,parts,net,t)]\n",
    "\n",
    "rewards = np.transpose(np.array(rewards))"
   ]
  },
  {
   "cell_type": "code",
   "execution_count": null,
   "metadata": {
    "collapsed": false
   },
   "outputs": [],
   "source": []
  },
  {
   "cell_type": "code",
   "execution_count": 371,
   "metadata": {
    "collapsed": false
   },
   "outputs": [
    {
     "name": "stdout",
     "output_type": "stream",
     "text": [
      "Average reward each turn:\n",
      "Turn 1: -0.025\n",
      "Turn 2: -0.0125\n",
      "Turn 3: -0.025\n",
      "Turn 4: -0.0125\n"
     ]
    }
   ],
   "source": [
    "print('Average reward each turn:')\n",
    "for i,r in enumerate(np.mean(rewards,1)):\n",
    "    print('Turn ' + str(i+1) + ':', r)"
   ]
  },
  {
   "cell_type": "code",
   "execution_count": 372,
   "metadata": {
    "collapsed": false
   },
   "outputs": [
    {
     "data": {
      "text/plain": [
       "array([[-0.0375, -0.0125, -0.0125, -0.0375],\n",
       "       [-0.0375,  0.025 ,  0.    , -0.0375],\n",
       "       [-0.0625,  0.025 ,  0.    , -0.0625],\n",
       "       [-0.0625,  0.0125,  0.0125, -0.0125]])"
      ]
     },
     "execution_count": 372,
     "metadata": {},
     "output_type": "execute_result"
    }
   ],
   "source": [
    "rewards"
   ]
  },
  {
   "cell_type": "code",
   "execution_count": 373,
   "metadata": {
    "collapsed": false
   },
   "outputs": [],
   "source": [
    "all_rewards = pd.DataFrame([[i,j,r] for i in range(len(rewards)) for j,r in enumerate(rewards[i])])\n",
    "all_rewards.columns = ['turn','net','reward']"
   ]
  },
  {
   "cell_type": "code",
   "execution_count": 374,
   "metadata": {
    "collapsed": false
   },
   "outputs": [
    {
     "data": {
      "text/plain": [
       "[3, 5, 1, 4, 5, 4, 2, 1]"
      ]
     },
     "execution_count": 374,
     "metadata": {},
     "output_type": "execute_result"
    }
   ],
   "source": [
    "[sum(parts[i] == base_prob) for i in parts]"
   ]
  },
  {
   "cell_type": "code",
   "execution_count": null,
   "metadata": {
    "collapsed": false
   },
   "outputs": [],
   "source": []
  },
  {
   "cell_type": "code",
   "execution_count": 375,
   "metadata": {
    "collapsed": false
   },
   "outputs": [
    {
     "data": {
      "text/html": [
       "<div>\n",
       "<table border=\"1\" class=\"dataframe\">\n",
       "  <thead>\n",
       "    <tr style=\"text-align: right;\">\n",
       "      <th></th>\n",
       "      <th></th>\n",
       "      <th>reward</th>\n",
       "    </tr>\n",
       "    <tr>\n",
       "      <th>turn</th>\n",
       "      <th>net</th>\n",
       "      <th></th>\n",
       "    </tr>\n",
       "  </thead>\n",
       "  <tbody>\n",
       "    <tr>\n",
       "      <th rowspan=\"4\" valign=\"top\">0</th>\n",
       "      <th>0</th>\n",
       "      <td>-0.0375</td>\n",
       "    </tr>\n",
       "    <tr>\n",
       "      <th>1</th>\n",
       "      <td>-0.0125</td>\n",
       "    </tr>\n",
       "    <tr>\n",
       "      <th>2</th>\n",
       "      <td>-0.0125</td>\n",
       "    </tr>\n",
       "    <tr>\n",
       "      <th>3</th>\n",
       "      <td>-0.0375</td>\n",
       "    </tr>\n",
       "    <tr>\n",
       "      <th rowspan=\"4\" valign=\"top\">1</th>\n",
       "      <th>0</th>\n",
       "      <td>-0.0375</td>\n",
       "    </tr>\n",
       "    <tr>\n",
       "      <th>1</th>\n",
       "      <td>0.0250</td>\n",
       "    </tr>\n",
       "    <tr>\n",
       "      <th>2</th>\n",
       "      <td>0.0000</td>\n",
       "    </tr>\n",
       "    <tr>\n",
       "      <th>3</th>\n",
       "      <td>-0.0375</td>\n",
       "    </tr>\n",
       "    <tr>\n",
       "      <th rowspan=\"4\" valign=\"top\">2</th>\n",
       "      <th>0</th>\n",
       "      <td>-0.0625</td>\n",
       "    </tr>\n",
       "    <tr>\n",
       "      <th>1</th>\n",
       "      <td>0.0250</td>\n",
       "    </tr>\n",
       "    <tr>\n",
       "      <th>2</th>\n",
       "      <td>0.0000</td>\n",
       "    </tr>\n",
       "    <tr>\n",
       "      <th>3</th>\n",
       "      <td>-0.0625</td>\n",
       "    </tr>\n",
       "    <tr>\n",
       "      <th rowspan=\"4\" valign=\"top\">3</th>\n",
       "      <th>0</th>\n",
       "      <td>-0.0625</td>\n",
       "    </tr>\n",
       "    <tr>\n",
       "      <th>1</th>\n",
       "      <td>0.0125</td>\n",
       "    </tr>\n",
       "    <tr>\n",
       "      <th>2</th>\n",
       "      <td>0.0125</td>\n",
       "    </tr>\n",
       "    <tr>\n",
       "      <th>3</th>\n",
       "      <td>-0.0125</td>\n",
       "    </tr>\n",
       "  </tbody>\n",
       "</table>\n",
       "</div>"
      ],
      "text/plain": [
       "          reward\n",
       "turn net        \n",
       "0    0   -0.0375\n",
       "     1   -0.0125\n",
       "     2   -0.0125\n",
       "     3   -0.0375\n",
       "1    0   -0.0375\n",
       "     1    0.0250\n",
       "     2    0.0000\n",
       "     3   -0.0375\n",
       "2    0   -0.0625\n",
       "     1    0.0250\n",
       "     2    0.0000\n",
       "     3   -0.0625\n",
       "3    0   -0.0625\n",
       "     1    0.0125\n",
       "     2    0.0125\n",
       "     3   -0.0125"
      ]
     },
     "execution_count": 375,
     "metadata": {},
     "output_type": "execute_result"
    }
   ],
   "source": [
    "all_rewards.groupby(['turn','net']).mean()"
   ]
  },
  {
   "cell_type": "code",
   "execution_count": 376,
   "metadata": {
    "collapsed": false
   },
   "outputs": [
    {
     "data": {
      "image/png": "[encoded data removed]",
      "text/plain": [
       "<matplotlib.figure.Figure at 0x7fd14d7c6550>"
      ]
     },
     "metadata": {},
     "output_type": "display_data"
    }
   ],
   "source": [
    "sns.set(context = 'paper', font_scale = 3, font='serif', style = 'white',  rc={\"lines.linewidth\": 2.5})\n",
    "sns.factorplot('turn','reward',col='net',data=all_rewards)\n",
    "plt.xlabel('Turn')\n",
    "plt.ylabel('Score')\n",
    "plt.savefig('score-over-time.jpg', bbox_inches = 'tight')\n"
   ]
  },
  {
   "cell_type": "code",
   "execution_count": 377,
   "metadata": {
    "collapsed": false
   },
   "outputs": [
    {
     "name": "stdout",
     "output_type": "stream",
     "text": [
      "LinregressResult(slope=0.0024999999999999996, intercept=-0.022499999999999996, rvalue=0.095346258924559224, pvalue=0.72540108588106011, stderr=0.0069757232087945022)\n"
     ]
    }
   ],
   "source": [
    "print(stats.linregress(all_rewards['turn'], all_rewards['reward']))"
   ]
  },
  {
   "cell_type": "code",
   "execution_count": 378,
   "metadata": {
    "collapsed": true
   },
   "outputs": [],
   "source": [
    "all_rewards.to_csv('all_rewards.csv')"
   ]
  },
  {
   "cell_type": "code",
   "execution_count": 379,
   "metadata": {
    "collapsed": false
   },
   "outputs": [
    {
     "name": "stdout",
     "output_type": "stream",
     "text": [
      "----\n",
      "6 1\n",
      "[['0'], ['0'], ['0'], ['0'], ['0'], ['0'], ['0'], ['0']]\n",
      "[['fail' 'fail' 'success' 'fail']\n",
      " ['success' 'success' 'success' 'fail']\n",
      " ['success' 'fail' 'success' 'success']\n",
      " ['fail' 'fail' 'success' 'fail']\n",
      " ['success' 'success' 'fail' 'success']\n",
      " ['fail' 'fail' 'success' 'success']\n",
      " ['success' 'fail' 'fail' 'success']\n",
      " ['fail' 'fail' 'fail' 'success']]\n",
      "[1, 0, 0, 1, 0, 0, 0, 1]\n",
      "----\n",
      "5 1\n",
      "[['0'], ['0'], ['0'], ['0'], ['0'], ['0'], ['0'], ['0']]\n",
      "[['fail' 'fail' 'success' 'fail']\n",
      " ['success' 'success' 'success' 'fail']\n",
      " ['success' 'fail' 'success' 'success']\n",
      " ['fail' 'fail' 'success' 'success']\n",
      " ['fail' 'fail' 'fail' 'success']\n",
      " ['success' 'success' 'fail' 'success']\n",
      " ['fail' 'success' 'success' 'success']\n",
      " ['fail' 'fail' 'fail' 'success']]\n",
      "[0, 1, 0, 0, 1, 0, 1, 0]\n",
      "----\n",
      "6 2\n",
      "[['success'], ['0'], ['0'], ['fail'], ['0'], ['0'], ['0'], ['fail']]\n",
      "[['success' 'success' 'fail' 'fail']\n",
      " ['success' 'fail' 'success' 'success']\n",
      " ['fail' 'success' 'fail' 'fail']\n",
      " ['fail' 'fail' 'fail' 'success']\n",
      " ['success' 'success' 'fail' 'fail']\n",
      " ['success' 'success' 'success' 'fail']\n",
      " ['fail' 'success' 'success' 'success']\n",
      " ['fail' 'fail' 'success' 'success']]\n",
      "[1, 1, 1, 1, 1, 1, 1, 1]\n",
      "----\n",
      "7 4\n",
      "[['success'], ['fail'], ['0'], ['fail'], ['fail'], ['success'], ['0'], ['0']]\n",
      "[['success' 'success' 'success' 'success']\n",
      " ['fail' 'fail' 'fail' 'success']\n",
      " ['success' 'fail' 'success' 'fail']\n",
      " ['fail' 'fail' 'fail' 'fail']\n",
      " ['fail' 'fail' 'fail' 'success']\n",
      " ['success' 'fail' 'success' 'fail']\n",
      " ['success' 'fail' 'success' 'fail']\n",
      " ['success' 'fail' 'success' 'success']]\n",
      "[1, 0, 1, 0, 0, 1, 1, 1]\n",
      "----\n",
      "5 4\n",
      "[['0'], ['fail'], ['fail'], ['0'], ['fail'], ['success'], ['success'], ['success']]\n",
      "[['fail' 'success' 'success' 'fail']\n",
      " ['fail' 'success' 'fail' 'fail']\n",
      " ['fail' 'success' 'success' 'success']\n",
      " ['success' 'success' 'fail' 'fail']\n",
      " ['fail' 'fail' 'fail' 'fail']\n",
      " ['success' 'success' 'success' 'success']\n",
      " ['success' 'fail' 'fail' 'success']\n",
      " ['success' 'fail' 'fail' 'fail']]\n",
      "[1, 0, 0, 1, 0, 1, 1, 1]\n",
      "----\n",
      "4 1\n",
      "[['0'], ['0'], ['0'], ['0'], ['0'], ['0'], ['0'], ['0']]\n",
      "[['success' 'fail' 'fail' 'success']\n",
      " ['fail' 'fail' 'fail' 'success']\n",
      " ['fail' 'fail' 'fail' 'success']\n",
      " ['fail' 'fail' 'fail' 'success']\n",
      " ['success' 'success' 'fail' 'fail']\n",
      " ['success' 'success' 'fail' 'success']\n",
      " ['fail' 'fail' 'fail' 'fail']\n",
      " ['success' 'success' 'fail' 'fail']]\n",
      "[0, 0, 1, 0, 0, 1, 0, 1]\n",
      "----\n",
      "5 2\n",
      "[['0'], ['success'], ['0'], ['0'], ['success'], ['0'], ['fail'], ['0']]\n",
      "[['success' 'fail' 'success' 'success']\n",
      " ['success' 'success' 'fail' 'fail']\n",
      " ['success' 'fail' 'fail' 'fail']\n",
      " ['fail' 'fail' 'fail' 'success']\n",
      " ['success' 'fail' 'fail' 'success']\n",
      " ['success' 'success' 'fail' 'success']\n",
      " ['fail' 'fail' 'success' 'success']\n",
      " ['success' 'success' 'success' 'fail']]\n",
      "[1, 1, 1, 1, 1, 1, 1, 1]\n",
      "----\n",
      "7 1\n",
      "[['0'], ['0'], ['0'], ['0'], ['0'], ['0'], ['0'], ['0']]\n",
      "[['fail' 'fail' 'fail' 'fail']\n",
      " ['success' 'success' 'success' 'success']\n",
      " ['success' 'success' 'fail' 'fail']\n",
      " ['fail' 'success' 'success' 'success']\n",
      " ['fail' 'success' 'fail' 'fail']\n",
      " ['success' 'fail' 'fail' 'success']\n",
      " ['success' 'fail' 'fail' 'fail']\n",
      " ['fail' 'success' 'fail' 'fail']]\n",
      "[0, 0, 0, 1, 0, 1, 1, 0]\n",
      "----\n",
      "7 3\n",
      "[['0'], ['success'], ['fail'], ['success'], ['success'], ['success'], ['fail'], ['fail']]\n",
      "[['success' 'success' 'success' 'fail']\n",
      " ['success' 'success' 'fail' 'fail']\n",
      " ['fail' 'fail' 'fail' 'fail']\n",
      " ['success' 'fail' 'fail' 'success']\n",
      " ['success' 'fail' 'success' 'fail']\n",
      " ['success' 'fail' 'success' 'fail']\n",
      " ['fail' 'success' 'fail' 'fail']\n",
      " ['fail' 'success' 'fail' 'fail']]\n",
      "[1, 1, 0, 1, 1, 1, 0, 0]\n",
      "----\n",
      "6 3\n",
      "[['success'], ['success'], ['success'], ['success'], ['fail'], ['fail'], ['success'], ['success']]\n",
      "[['success' 'fail' 'success' 'success']\n",
      " ['success' 'fail' 'fail' 'fail']\n",
      " ['success' 'fail' 'fail' 'success']\n",
      " ['success' 'fail' 'fail' 'fail']\n",
      " ['fail' 'fail' 'success' 'fail']\n",
      " ['fail' 'fail' 'success' 'success']\n",
      " ['success' 'fail' 'fail' 'success']\n",
      " ['success' 'fail' 'fail' 'fail']]\n",
      "[1, 1, 1, 1, 1, 1, 1, 1]\n",
      "----\n",
      "5 3\n",
      "[['fail'], ['success'], ['success'], ['fail'], ['success'], ['success'], ['success'], ['success']]\n",
      "[['fail' 'success' 'fail' 'fail']\n",
      " ['success' 'fail' 'fail' 'fail']\n",
      " ['success' 'success' 'fail' 'success']\n",
      " ['fail' 'fail' 'success' 'fail']\n",
      " ['success' 'fail' 'fail' 'success']\n",
      " ['success' 'success' 'success' 'success']\n",
      " ['success' 'fail' 'fail' 'success']\n",
      " ['success' 'success' 'success' 'success']]\n",
      "[0, 1, 1, 0, 1, 1, 1, 1]\n",
      "----\n",
      "4 2\n",
      "[['0'], ['0'], ['success'], ['0'], ['0'], ['success'], ['0'], ['success']]\n",
      "[['fail' 'success' 'success' 'fail']\n",
      " ['success' 'fail' 'fail' 'success']\n",
      " ['success' 'fail' 'fail' 'fail']\n",
      " ['success' 'success' 'success' 'fail']\n",
      " ['success' 'fail' 'fail' 'fail']\n",
      " ['success' 'success' 'success' 'success']\n",
      " ['fail' 'fail' 'fail' 'fail']\n",
      " ['success' 'success' 'success' 'fail']]\n",
      "[0, 0, 1, 0, 0, 1, 0, 1]\n",
      "----\n",
      "7 2\n",
      "[['0'], ['0'], ['0'], ['fail'], ['0'], ['fail'], ['fail'], ['0']]\n",
      "[['fail' 'fail' 'success' 'success']\n",
      " ['fail' 'success' 'fail' 'success']\n",
      " ['fail' 'fail' 'success' 'success']\n",
      " ['fail' 'fail' 'fail' 'fail']\n",
      " ['fail' 'fail' 'fail' 'fail']\n",
      " ['fail' 'fail' 'fail' 'fail']\n",
      " ['fail' 'success' 'fail' 'success']\n",
      " ['fail' 'fail' 'success' 'success']]\n",
      "[0, 1, 1, 1, 1, 1, 1, 1]\n",
      "----\n",
      "4 3\n",
      "[['0'], ['0'], ['success'], ['0'], ['0'], ['fail'], ['0'], ['success']]\n",
      "[['success' 'fail' 'success' 'fail']\n",
      " ['fail' 'fail' 'success' 'success']\n",
      " ['success' 'success' 'success' 'fail']\n",
      " ['success' 'success' 'success' 'fail']\n",
      " ['success' 'success' 'fail' 'fail']\n",
      " ['fail' 'success' 'fail' 'fail']\n",
      " ['fail' 'fail' 'success' 'fail']\n",
      " ['success' 'fail' 'success' 'success']]\n",
      "[1, 1, 1, 1, 1, 0, 1, 1]\n",
      "----\n",
      "4 4\n",
      "[['fail'], ['success'], ['success'], ['fail'], ['success'], ['0'], ['success'], ['fail']]\n",
      "[['fail' 'success' 'fail' 'success']\n",
      " ['success' 'success' 'fail' 'fail']\n",
      " ['success' 'fail' 'success' 'fail']\n",
      " ['fail' 'fail' 'success' 'success']\n",
      " ['success' 'fail' 'fail' 'fail']\n",
      " ['fail' 'fail' 'success' 'fail']\n",
      " ['success' 'success' 'success' 'success']\n",
      " ['fail' 'fail' 'fail' 'success']]\n",
      "[0, 1, 1, 0, 1, 1, 1, 0]\n",
      "----\n",
      "6 4\n",
      "[['success'], ['fail'], ['fail'], ['success'], ['success'], ['fail'], ['fail'], ['fail']]\n",
      "[['success' 'success' 'fail' 'success']\n",
      " ['fail' 'success' 'fail' 'success']\n",
      " ['fail' 'success' 'fail' 'fail']\n",
      " ['success' 'success' 'success' 'fail']\n",
      " ['success' 'fail' 'fail' 'fail']\n",
      " ['fail' 'fail' 'fail' 'fail']\n",
      " ['fail' 'success' 'success' 'fail']\n",
      " ['fail' 'success' 'success' 'fail']]\n",
      "[1, 0, 0, 1, 1, 0, 0, 0]\n"
     ]
    }
   ],
   "source": [
    "\n",
    "turn = []\n",
    "seen = []\n",
    "perf = []\n",
    "choice = []\n",
    "net = []\n",
    "item = []\n",
    "\n",
    "for i,row in data.iterrows():\n",
    "    \n",
    "    if len(row['viewed']) > 0:\n",
    "        \n",
    "        print('----')\n",
    "        print(row['net'],row['turn'])\n",
    "        print(row['viewed'])\n",
    "        print(fails[row['net']][row['turn']-2])\n",
    "        print(row['action'])\n",
    "        \n",
    "        for j in range(len(row['action'])):\n",
    "            \n",
    "            these_successes = sum(np.array(fails[row['net']][row['turn']-2][j]) == 'success')\n",
    "            these_fails = sum(np.array(fails[row['net']][row['turn']-2][j]) == 'fail')\n",
    "            \n",
    "            turn += [row['turn']]\n",
    "            seen += [row['viewed'][j][0] != '0']\n",
    "            perf += [these_successes - these_fails]\n",
    "            choice += [row['action'][j]]\n",
    "            net += [row['net']]\n",
    "            item += [j]\n",
    "            \n",
    "indiv_choices = pd.DataFrame({'turn':turn,'seen':seen,'perf':perf,'choice':choice,'net':net,'item':item})"
   ]
  },
  {
   "cell_type": "code",
   "execution_count": 380,
   "metadata": {
    "collapsed": false
   },
   "outputs": [
    {
     "data": {
      "text/plain": [
       "<seaborn.axisgrid.FacetGrid at 0x7fd14d74da20>"
      ]
     },
     "execution_count": 380,
     "metadata": {},
     "output_type": "execute_result"
    },
    {
     "data": {
      "image/png": "[encoded data removed]",
      "text/plain": [
       "<matplotlib.figure.Figure at 0x7fd14e03b7f0>"
      ]
     },
     "metadata": {},
     "output_type": "display_data"
    }
   ],
   "source": [
    "sns.factorplot('perf', 'choice', row = 'turn', data = indiv_choices[seen])\n"
   ]
  },
  {
   "cell_type": "code",
   "execution_count": 381,
   "metadata": {
    "collapsed": false
   },
   "outputs": [
    {
     "data": {
      "text/html": [
       "<div>\n",
       "<table border=\"1\" class=\"dataframe\">\n",
       "  <thead>\n",
       "    <tr style=\"text-align: right;\">\n",
       "      <th></th>\n",
       "      <th></th>\n",
       "      <th></th>\n",
       "      <th></th>\n",
       "      <th>choice</th>\n",
       "      <th>seen</th>\n",
       "    </tr>\n",
       "    <tr>\n",
       "      <th>perf</th>\n",
       "      <th>turn</th>\n",
       "      <th>item</th>\n",
       "      <th>net</th>\n",
       "      <th></th>\n",
       "      <th></th>\n",
       "    </tr>\n",
       "  </thead>\n",
       "  <tbody>\n",
       "    <tr>\n",
       "      <th rowspan=\"6\" valign=\"top\">-4</th>\n",
       "      <th rowspan=\"2\" valign=\"top\">2</th>\n",
       "      <th>3</th>\n",
       "      <th>7</th>\n",
       "      <td>1</td>\n",
       "      <td>True</td>\n",
       "    </tr>\n",
       "    <tr>\n",
       "      <th>5</th>\n",
       "      <th>7</th>\n",
       "      <td>1</td>\n",
       "      <td>True</td>\n",
       "    </tr>\n",
       "    <tr>\n",
       "      <th>3</th>\n",
       "      <th>2</th>\n",
       "      <th>7</th>\n",
       "      <td>0</td>\n",
       "      <td>True</td>\n",
       "    </tr>\n",
       "    <tr>\n",
       "      <th rowspan=\"3\" valign=\"top\">4</th>\n",
       "      <th>3</th>\n",
       "      <th>7</th>\n",
       "      <td>0</td>\n",
       "      <td>True</td>\n",
       "    </tr>\n",
       "    <tr>\n",
       "      <th>4</th>\n",
       "      <th>5</th>\n",
       "      <td>0</td>\n",
       "      <td>True</td>\n",
       "    </tr>\n",
       "    <tr>\n",
       "      <th>5</th>\n",
       "      <th>6</th>\n",
       "      <td>0</td>\n",
       "      <td>True</td>\n",
       "    </tr>\n",
       "    <tr>\n",
       "      <th rowspan=\"20\" valign=\"top\">-2</th>\n",
       "      <th rowspan=\"2\" valign=\"top\">2</th>\n",
       "      <th>2</th>\n",
       "      <th>4</th>\n",
       "      <td>1</td>\n",
       "      <td>True</td>\n",
       "    </tr>\n",
       "    <tr>\n",
       "      <th>3</th>\n",
       "      <th>6</th>\n",
       "      <td>1</td>\n",
       "      <td>True</td>\n",
       "    </tr>\n",
       "    <tr>\n",
       "      <th rowspan=\"10\" valign=\"top\">3</th>\n",
       "      <th>0</th>\n",
       "      <th>5</th>\n",
       "      <td>0</td>\n",
       "      <td>True</td>\n",
       "    </tr>\n",
       "    <tr>\n",
       "      <th rowspan=\"2\" valign=\"top\">1</th>\n",
       "      <th>5</th>\n",
       "      <td>1</td>\n",
       "      <td>True</td>\n",
       "    </tr>\n",
       "    <tr>\n",
       "      <th>6</th>\n",
       "      <td>1</td>\n",
       "      <td>True</td>\n",
       "    </tr>\n",
       "    <tr>\n",
       "      <th rowspan=\"2\" valign=\"top\">3</th>\n",
       "      <th>5</th>\n",
       "      <td>0</td>\n",
       "      <td>True</td>\n",
       "    </tr>\n",
       "    <tr>\n",
       "      <th>6</th>\n",
       "      <td>1</td>\n",
       "      <td>True</td>\n",
       "    </tr>\n",
       "    <tr>\n",
       "      <th>4</th>\n",
       "      <th>6</th>\n",
       "      <td>1</td>\n",
       "      <td>True</td>\n",
       "    </tr>\n",
       "    <tr>\n",
       "      <th>5</th>\n",
       "      <th>4</th>\n",
       "      <td>0</td>\n",
       "      <td>True</td>\n",
       "    </tr>\n",
       "    <tr>\n",
       "      <th>6</th>\n",
       "      <th>7</th>\n",
       "      <td>0</td>\n",
       "      <td>True</td>\n",
       "    </tr>\n",
       "    <tr>\n",
       "      <th rowspan=\"2\" valign=\"top\">7</th>\n",
       "      <th>6</th>\n",
       "      <td>1</td>\n",
       "      <td>True</td>\n",
       "    </tr>\n",
       "    <tr>\n",
       "      <th>7</th>\n",
       "      <td>0</td>\n",
       "      <td>True</td>\n",
       "    </tr>\n",
       "    <tr>\n",
       "      <th rowspan=\"8\" valign=\"top\">4</th>\n",
       "      <th rowspan=\"2\" valign=\"top\">1</th>\n",
       "      <th>5</th>\n",
       "      <td>0</td>\n",
       "      <td>True</td>\n",
       "    </tr>\n",
       "    <tr>\n",
       "      <th>7</th>\n",
       "      <td>0</td>\n",
       "      <td>True</td>\n",
       "    </tr>\n",
       "    <tr>\n",
       "      <th>2</th>\n",
       "      <th>6</th>\n",
       "      <td>0</td>\n",
       "      <td>True</td>\n",
       "    </tr>\n",
       "    <tr>\n",
       "      <th rowspan=\"3\" valign=\"top\">4</th>\n",
       "      <th>4</th>\n",
       "      <td>1</td>\n",
       "      <td>True</td>\n",
       "    </tr>\n",
       "    <tr>\n",
       "      <th>6</th>\n",
       "      <td>1</td>\n",
       "      <td>True</td>\n",
       "    </tr>\n",
       "    <tr>\n",
       "      <th>7</th>\n",
       "      <td>0</td>\n",
       "      <td>True</td>\n",
       "    </tr>\n",
       "    <tr>\n",
       "      <th rowspan=\"2\" valign=\"top\">7</th>\n",
       "      <th>4</th>\n",
       "      <td>0</td>\n",
       "      <td>True</td>\n",
       "    </tr>\n",
       "    <tr>\n",
       "      <th>5</th>\n",
       "      <td>1</td>\n",
       "      <td>True</td>\n",
       "    </tr>\n",
       "    <tr>\n",
       "      <th rowspan=\"21\" valign=\"top\">0</th>\n",
       "      <th rowspan=\"4\" valign=\"top\">2</th>\n",
       "      <th>0</th>\n",
       "      <th>6</th>\n",
       "      <td>1</td>\n",
       "      <td>True</td>\n",
       "    </tr>\n",
       "    <tr>\n",
       "      <th>1</th>\n",
       "      <th>5</th>\n",
       "      <td>1</td>\n",
       "      <td>True</td>\n",
       "    </tr>\n",
       "    <tr>\n",
       "      <th>4</th>\n",
       "      <th>5</th>\n",
       "      <td>1</td>\n",
       "      <td>True</td>\n",
       "    </tr>\n",
       "    <tr>\n",
       "      <th>6</th>\n",
       "      <th>5</th>\n",
       "      <td>1</td>\n",
       "      <td>True</td>\n",
       "    </tr>\n",
       "    <tr>\n",
       "      <th>2</th>\n",
       "      <th>6</th>\n",
       "      <th>...</th>\n",
       "      <td>...</td>\n",
       "      <td>...</td>\n",
       "    </tr>\n",
       "    <tr>\n",
       "      <th rowspan=\"7\" valign=\"top\">3</th>\n",
       "      <th>3</th>\n",
       "      <th>7</th>\n",
       "      <td>1</td>\n",
       "      <td>True</td>\n",
       "    </tr>\n",
       "    <tr>\n",
       "      <th rowspan=\"2\" valign=\"top\">4</th>\n",
       "      <th>5</th>\n",
       "      <td>1</td>\n",
       "      <td>True</td>\n",
       "    </tr>\n",
       "    <tr>\n",
       "      <th>7</th>\n",
       "      <td>1</td>\n",
       "      <td>True</td>\n",
       "    </tr>\n",
       "    <tr>\n",
       "      <th rowspan=\"2\" valign=\"top\">5</th>\n",
       "      <th>6</th>\n",
       "      <td>1</td>\n",
       "      <td>True</td>\n",
       "    </tr>\n",
       "    <tr>\n",
       "      <th>7</th>\n",
       "      <td>1</td>\n",
       "      <td>True</td>\n",
       "    </tr>\n",
       "    <tr>\n",
       "      <th rowspan=\"2\" valign=\"top\">6</th>\n",
       "      <th>5</th>\n",
       "      <td>1</td>\n",
       "      <td>True</td>\n",
       "    </tr>\n",
       "    <tr>\n",
       "      <th>6</th>\n",
       "      <td>1</td>\n",
       "      <td>True</td>\n",
       "    </tr>\n",
       "    <tr>\n",
       "      <th rowspan=\"9\" valign=\"top\">4</th>\n",
       "      <th>0</th>\n",
       "      <th>4</th>\n",
       "      <td>0</td>\n",
       "      <td>True</td>\n",
       "    </tr>\n",
       "    <tr>\n",
       "      <th rowspan=\"2\" valign=\"top\">1</th>\n",
       "      <th>4</th>\n",
       "      <td>1</td>\n",
       "      <td>True</td>\n",
       "    </tr>\n",
       "    <tr>\n",
       "      <th>6</th>\n",
       "      <td>0</td>\n",
       "      <td>True</td>\n",
       "    </tr>\n",
       "    <tr>\n",
       "      <th>2</th>\n",
       "      <th>4</th>\n",
       "      <td>1</td>\n",
       "      <td>True</td>\n",
       "    </tr>\n",
       "    <tr>\n",
       "      <th>3</th>\n",
       "      <th>4</th>\n",
       "      <td>0</td>\n",
       "      <td>True</td>\n",
       "    </tr>\n",
       "    <tr>\n",
       "      <th>5</th>\n",
       "      <th>7</th>\n",
       "      <td>1</td>\n",
       "      <td>True</td>\n",
       "    </tr>\n",
       "    <tr>\n",
       "      <th rowspan=\"2\" valign=\"top\">6</th>\n",
       "      <th>5</th>\n",
       "      <td>1</td>\n",
       "      <td>True</td>\n",
       "    </tr>\n",
       "    <tr>\n",
       "      <th>6</th>\n",
       "      <td>0</td>\n",
       "      <td>True</td>\n",
       "    </tr>\n",
       "    <tr>\n",
       "      <th>7</th>\n",
       "      <th>6</th>\n",
       "      <td>0</td>\n",
       "      <td>True</td>\n",
       "    </tr>\n",
       "    <tr>\n",
       "      <th rowspan=\"8\" valign=\"top\">2</th>\n",
       "      <th>2</th>\n",
       "      <th>7</th>\n",
       "      <th>4</th>\n",
       "      <td>1</td>\n",
       "      <td>True</td>\n",
       "    </tr>\n",
       "    <tr>\n",
       "      <th rowspan=\"4\" valign=\"top\">3</th>\n",
       "      <th>0</th>\n",
       "      <th>6</th>\n",
       "      <td>1</td>\n",
       "      <td>True</td>\n",
       "    </tr>\n",
       "    <tr>\n",
       "      <th rowspan=\"2\" valign=\"top\">2</th>\n",
       "      <th>4</th>\n",
       "      <td>1</td>\n",
       "      <td>True</td>\n",
       "    </tr>\n",
       "    <tr>\n",
       "      <th>5</th>\n",
       "      <td>1</td>\n",
       "      <td>True</td>\n",
       "    </tr>\n",
       "    <tr>\n",
       "      <th>7</th>\n",
       "      <th>4</th>\n",
       "      <td>1</td>\n",
       "      <td>True</td>\n",
       "    </tr>\n",
       "    <tr>\n",
       "      <th rowspan=\"3\" valign=\"top\">4</th>\n",
       "      <th>0</th>\n",
       "      <th>6</th>\n",
       "      <td>1</td>\n",
       "      <td>True</td>\n",
       "    </tr>\n",
       "    <tr>\n",
       "      <th>2</th>\n",
       "      <th>5</th>\n",
       "      <td>0</td>\n",
       "      <td>True</td>\n",
       "    </tr>\n",
       "    <tr>\n",
       "      <th>3</th>\n",
       "      <th>6</th>\n",
       "      <td>1</td>\n",
       "      <td>True</td>\n",
       "    </tr>\n",
       "    <tr>\n",
       "      <th rowspan=\"6\" valign=\"top\">4</th>\n",
       "      <th>2</th>\n",
       "      <th>5</th>\n",
       "      <th>4</th>\n",
       "      <td>1</td>\n",
       "      <td>True</td>\n",
       "    </tr>\n",
       "    <tr>\n",
       "      <th rowspan=\"2\" valign=\"top\">3</th>\n",
       "      <th>5</th>\n",
       "      <th>5</th>\n",
       "      <td>1</td>\n",
       "      <td>True</td>\n",
       "    </tr>\n",
       "    <tr>\n",
       "      <th>7</th>\n",
       "      <th>5</th>\n",
       "      <td>1</td>\n",
       "      <td>True</td>\n",
       "    </tr>\n",
       "    <tr>\n",
       "      <th rowspan=\"3\" valign=\"top\">4</th>\n",
       "      <th>0</th>\n",
       "      <th>7</th>\n",
       "      <td>1</td>\n",
       "      <td>True</td>\n",
       "    </tr>\n",
       "    <tr>\n",
       "      <th>5</th>\n",
       "      <th>5</th>\n",
       "      <td>1</td>\n",
       "      <td>True</td>\n",
       "    </tr>\n",
       "    <tr>\n",
       "      <th>6</th>\n",
       "      <th>4</th>\n",
       "      <td>1</td>\n",
       "      <td>True</td>\n",
       "    </tr>\n",
       "  </tbody>\n",
       "</table>\n",
       "<p>64 rows × 2 columns</p>\n",
       "</div>"
      ],
      "text/plain": [
       "                    choice  seen\n",
       "perf turn item net              \n",
       "-4   2    3    7         1  True\n",
       "          5    7         1  True\n",
       "     3    2    7         0  True\n",
       "     4    3    7         0  True\n",
       "          4    5         0  True\n",
       "          5    6         0  True\n",
       "-2   2    2    4         1  True\n",
       "          3    6         1  True\n",
       "     3    0    5         0  True\n",
       "          1    5         1  True\n",
       "               6         1  True\n",
       "          3    5         0  True\n",
       "               6         1  True\n",
       "          4    6         1  True\n",
       "          5    4         0  True\n",
       "          6    7         0  True\n",
       "          7    6         1  True\n",
       "               7         0  True\n",
       "     4    1    5         0  True\n",
       "               7         0  True\n",
       "          2    6         0  True\n",
       "          4    4         1  True\n",
       "               6         1  True\n",
       "               7         0  True\n",
       "          7    4         0  True\n",
       "               5         1  True\n",
       " 0   2    0    6         1  True\n",
       "          1    5         1  True\n",
       "          4    5         1  True\n",
       "          6    5         1  True\n",
       "...                    ...   ...\n",
       "     3    3    7         1  True\n",
       "          4    5         1  True\n",
       "               7         1  True\n",
       "          5    6         1  True\n",
       "               7         1  True\n",
       "          6    5         1  True\n",
       "               6         1  True\n",
       "     4    0    4         0  True\n",
       "          1    4         1  True\n",
       "               6         0  True\n",
       "          2    4         1  True\n",
       "          3    4         0  True\n",
       "          5    7         1  True\n",
       "          6    5         1  True\n",
       "               6         0  True\n",
       "          7    6         0  True\n",
       " 2   2    7    4         1  True\n",
       "     3    0    6         1  True\n",
       "          2    4         1  True\n",
       "               5         1  True\n",
       "          7    4         1  True\n",
       "     4    0    6         1  True\n",
       "          2    5         0  True\n",
       "          3    6         1  True\n",
       " 4   2    5    4         1  True\n",
       "     3    5    5         1  True\n",
       "          7    5         1  True\n",
       "     4    0    7         1  True\n",
       "          5    5         1  True\n",
       "          6    4         1  True\n",
       "\n",
       "[64 rows x 2 columns]"
      ]
     },
     "execution_count": 381,
     "metadata": {},
     "output_type": "execute_result"
    }
   ],
   "source": [
    "agg = indiv_choices[seen].groupby(['perf','turn','item','net']).mean()\n",
    "agg"
   ]
  },
  {
   "cell_type": "code",
   "execution_count": 382,
   "metadata": {
    "collapsed": false
   },
   "outputs": [
    {
     "data": {
      "text/plain": [
       "0.53846153846153844"
      ]
     },
     "execution_count": 382,
     "metadata": {},
     "output_type": "execute_result"
    }
   ],
   "source": [
    "np.mean(agg.loc[[-4,-2],:,:,:]['choice'] == 0)"
   ]
  },
  {
   "cell_type": "code",
   "execution_count": 383,
   "metadata": {
    "collapsed": false
   },
   "outputs": [
    {
     "data": {
      "image/png": "[encoded data removed]",
      "text/plain": [
       "<matplotlib.figure.Figure at 0x7fd14f6ad748>"
      ]
     },
     "metadata": {},
     "output_type": "display_data"
    }
   ],
   "source": [
    "sns.set(context = 'paper', font_scale = 2, font='serif', style = 'white',  rc={\"lines.linewidth\": 2.5})\n",
    "sns.pointplot('perf', 'choice', data = indiv_choices[seen])\n",
    "plt.ylim(0,1)\n",
    "plt.xlabel('Evidence')\n",
    "plt.ylabel('Probability of Choosing')\n",
    "plt.savefig('response-curve.jpg', bbox_inches = 'tight')"
   ]
  },
  {
   "cell_type": "code",
   "execution_count": 384,
   "metadata": {
    "collapsed": false
   },
   "outputs": [
    {
     "data": {
      "image/png": "[encoded data removed]",
      "text/plain": [
       "<matplotlib.figure.Figure at 0x7fd14e9daf60>"
      ]
     },
     "metadata": {},
     "output_type": "display_data"
    }
   ],
   "source": [
    "sns.set(context = 'paper', font_scale = 2, font='serif', style = 'white',  rc={\"lines.linewidth\": 2.5})\n",
    "sns.factorplot('turn', 'choice', data = indiv_choices[~np.array(seen)])\n",
    "plt.xlabel('Turn')\n",
    "plt.ylabel('Probability of Choosing\\nUnseen Part')\n",
    "plt.ylim(0,1)\n",
    "plt.savefig('unseen-parts.jpg', bbox_inches = 'tight')"
   ]
  },
  {
   "cell_type": "code",
   "execution_count": null,
   "metadata": {
    "collapsed": false
   },
   "outputs": [],
   "source": []
  },
  {
   "cell_type": "code",
   "execution_count": 385,
   "metadata": {
    "collapsed": false
   },
   "outputs": [
    {
     "data": {
      "text/plain": [
       "<seaborn.axisgrid.FacetGrid at 0x7fd14e118a58>"
      ]
     },
     "execution_count": 385,
     "metadata": {},
     "output_type": "execute_result"
    },
    {
     "data": {
      "image/png": "[encoded data removed]",
      "text/plain": [
       "<matplotlib.figure.Figure at 0x7fd14ea0c780>"
      ]
     },
     "metadata": {},
     "output_type": "display_data"
    }
   ],
   "source": [
    "sns.factorplot('turn', 'seen', col = 'net', data = indiv_choices, estimator = sum)"
   ]
  },
  {
   "cell_type": "code",
   "execution_count": null,
   "metadata": {
    "collapsed": false
   },
   "outputs": [],
   "source": []
  },
  {
   "cell_type": "code",
   "execution_count": null,
   "metadata": {
    "collapsed": false
   },
   "outputs": [],
   "source": []
  },
  {
   "cell_type": "code",
   "execution_count": 386,
   "metadata": {
    "collapsed": false
   },
   "outputs": [],
   "source": [
    "num_turns = max(data['turn'])\n",
    "num_agents = int(sum(data['turn'] == max(data['turn'])) / len(set(nets)))\n",
    "num_actions = 8\n",
    "actions = []\n",
    "\n",
    "for n in set(nets):\n",
    "        \n",
    "    for t in range(num_turns):\n",
    "        \n",
    "        this_actions = []\n",
    "    \n",
    "        for i in range(num_agents):\n",
    "            \n",
    "            action = [n,t,i,[]]\n",
    "        \n",
    "            for j in range(num_actions):\n",
    "                \n",
    "                if t > 0:\n",
    "                    viewed_fails = last_actions[np.random.choice(num_agents)]\n",
    "                    \n",
    "                if t == 0:\n",
    "                    choice = np.random.random() < 0.5\n",
    "                elif not viewed_fails[j]:\n",
    "                    choice = np.random.random() < 0.5\n",
    "                else:\n",
    "                    signal = np.mean(fails[n][t][j] == 'success')\n",
    "                    if signal == 1.0:\n",
    "                        choice = np.random.random() < 0.8\n",
    "                    elif signal == 0.75:\n",
    "                        choice = np.random.random() < 0.75\n",
    "                    elif signal == 0.5:\n",
    "                        choice = np.random.random() < 0.5\n",
    "                    elif signal == 0.25:\n",
    "                        choice = np.random.random() < 0.25\n",
    "                    elif signal == 0.0:\n",
    "                        choice = np.random.random() < 0.2\n",
    "                    else:\n",
    "                        assert False\n",
    "                    \n",
    "                action[-1] += [choice]\n",
    "                \n",
    "            this_actions += [action[-1]]\n",
    "            actions += [action]\n",
    "            \n",
    "        last_actions = this_actions\n",
    "            "
   ]
  },
  {
   "cell_type": "code",
   "execution_count": 387,
   "metadata": {
    "collapsed": false
   },
   "outputs": [],
   "source": [
    "sim_data = pd.DataFrame(actions)\n",
    "sim_data.columns = ['net','turn','agent','action']"
   ]
  },
  {
   "cell_type": "code",
   "execution_count": 388,
   "metadata": {
    "collapsed": false
   },
   "outputs": [
    {
     "data": {
      "text/plain": [
       "1"
      ]
     },
     "execution_count": 388,
     "metadata": {},
     "output_type": "execute_result"
    }
   ],
   "source": [
    "len(last_actions)"
   ]
  },
  {
   "cell_type": "code",
   "execution_count": 389,
   "metadata": {
    "collapsed": false
   },
   "outputs": [],
   "source": [
    "sim_rewards = []\n",
    "\n",
    "for net in sorted(set(data['net'])):\n",
    "    \n",
    "    sim_rewards += [[]]\n",
    "    for t in range(num_turns):\n",
    "        sim_rewards[-1] += [utils.get_reward(sim_data,parts,net,t)]\n",
    "\n",
    "sim_rewards = np.transpose(np.array(sim_rewards))"
   ]
  },
  {
   "cell_type": "code",
   "execution_count": 390,
   "metadata": {
    "collapsed": false
   },
   "outputs": [
    {
     "data": {
      "text/plain": [
       "array([[-0.05  ,  0.    ,  0.    , -0.025 ],\n",
       "       [-0.0375, -0.0125, -0.025 , -0.0375],\n",
       "       [-0.0375,  0.0125,  0.025 , -0.025 ],\n",
       "       [-0.0375,  0.    ,  0.0125, -0.0125]])"
      ]
     },
     "execution_count": 390,
     "metadata": {},
     "output_type": "execute_result"
    }
   ],
   "source": [
    "sim_rewards"
   ]
  },
  {
   "cell_type": "code",
   "execution_count": 391,
   "metadata": {
    "collapsed": false
   },
   "outputs": [
    {
     "name": "stdout",
     "output_type": "stream",
     "text": [
      "Average reward each turn:\n",
      "Turn 1: -0.01875\n",
      "Turn 2: -0.028125\n",
      "Turn 3: -0.00625\n",
      "Turn 4: -0.009375\n"
     ]
    }
   ],
   "source": [
    "print('Average reward each turn:')\n",
    "for i,r in enumerate(np.mean(sim_rewards,1)):\n",
    "    print('Turn ' + str(i+1) + ':', r)"
   ]
  },
  {
   "cell_type": "code",
   "execution_count": 392,
   "metadata": {
    "collapsed": true
   },
   "outputs": [],
   "source": [
    "all_sim_rewards = pd.DataFrame([[i,j,r] for i in range(len(sim_rewards)) for j,r in enumerate(sim_rewards[i])])\n",
    "all_sim_rewards.columns = ['turn','net','reward']"
   ]
  },
  {
   "cell_type": "code",
   "execution_count": 393,
   "metadata": {
    "collapsed": false
   },
   "outputs": [
    {
     "data": {
      "text/plain": [
       "<seaborn.axisgrid.FacetGrid at 0x7fd14d42a080>"
      ]
     },
     "execution_count": 393,
     "metadata": {},
     "output_type": "execute_result"
    },
    {
     "data": {
      "image/png": "[encoded data removed]",
      "text/plain": [
       "<matplotlib.figure.Figure at 0x7fd14d42a048>"
      ]
     },
     "metadata": {},
     "output_type": "display_data"
    }
   ],
   "source": [
    "sns.factorplot('turn','reward',col='net',data=all_sim_rewards)"
   ]
  },
  {
   "cell_type": "code",
   "execution_count": 394,
   "metadata": {
    "collapsed": false
   },
   "outputs": [
    {
     "name": "stdout",
     "output_type": "stream",
     "text": [
      "LinregressResult(slope=0.0049999999999999992, intercept=-0.023124999999999996, rvalue=0.2609312292213769, pvalue=0.3290092246582742, stderr=0.0049438814999668308)\n"
     ]
    }
   ],
   "source": [
    "print(stats.linregress(all_sim_rewards['turn'], all_sim_rewards['reward']))"
   ]
  },
  {
   "cell_type": "code",
   "execution_count": null,
   "metadata": {
    "collapsed": false
   },
   "outputs": [],
   "source": []
  },
  {
   "cell_type": "code",
   "execution_count": null,
   "metadata": {
    "collapsed": false
   },
   "outputs": [],
   "source": []
  },
  {
   "cell_type": "code",
   "execution_count": null,
   "metadata": {
    "collapsed": true
   },
   "outputs": [],
   "source": []
  }
 ],
 "metadata": {
  "kernelspec": {
   "display_name": "Python 3",
   "language": "python",
   "name": "python3"
  },
  "language_info": {
   "codemirror_mode": {
    "name": "ipython",
    "version": 3
   },
   "file_extension": ".py",
   "mimetype": "text/x-python",
   "name": "python",
   "nbconvert_exporter": "python",
   "pygments_lexer": "ipython3",
   "version": "3.6.0"
  }
 },
 "nbformat": 4,
 "nbformat_minor": 2
}
