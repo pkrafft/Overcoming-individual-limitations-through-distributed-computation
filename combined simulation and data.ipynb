{
 "cells": [
  {
   "cell_type": "code",
   "execution_count": 24,
   "metadata": {
    "collapsed": false
   },
   "outputs": [],
   "source": [
    "%matplotlib inline\n",
    "\n",
    "import matplotlib.pyplot as plt\n",
    "import seaborn as sns\n",
    "\n",
    "import pandas as pd\n",
    "import numpy as np\n",
    "import scipy.stats as stats\n",
    "\n",
    "import particle\n",
    "import utils\n",
    "\n",
    "import importlib\n",
    "importlib.reload(particle)\n",
    "importlib.reload(utils)\n",
    "\n",
    "import os"
   ]
  },
  {
   "cell_type": "code",
   "execution_count": 25,
   "metadata": {
    "collapsed": true
   },
   "outputs": [],
   "source": [
    "out_dir = './results/'"
   ]
  },
  {
   "cell_type": "code",
   "execution_count": 26,
   "metadata": {
    "collapsed": false
   },
   "outputs": [],
   "source": [
    "experiment_sets = [\n",
    "    [\n",
    "        'd75786f7-data-2018-01-25-big-experiment',\n",
    "        '18a75a2d-data-2018-03-19-big-experiment',\n",
    "    ],\n",
    "    [\n",
    "        '6b2b35f0-rounds-10-evidence-1-bit-experiment',\n",
    "    ],\n",
    "    [\n",
    "        '095ddcbc-rounds-10-evidence-4-big-experiment-high-prob',\n",
    "    ],\n",
    "    [\n",
    "        'b7d0390f-rounds-10-evidence-4-population-5',\n",
    "        'abf00068-rounds-10-evidence-4-population-5',\n",
    "    ],\n",
    "    [\n",
    "        '70f80fdf-rounds-10-evidence-1-population-5',\n",
    "        'd9145d2a-rounds-10-evidence-1-population-5',\n",
    "    ]\n",
    "]\n",
    "\n",
    "names = ['Large-Population-High-Evidence',\n",
    "         'Large-Population-Low-Evidence',\n",
    "         'Large-Population-High-Success',\n",
    "         'Small-Population-High-Evidence',\n",
    "         'Small-Population-Low-Evidence']\n",
    "\n",
    "sizes = [20,20,20,5,5]\n",
    "n_evidences = [4,1,4,4,1]\n",
    "part_probs = [0.6, 0.6, 0.8, 0.6, 0.6]"
   ]
  },
  {
   "cell_type": "code",
   "execution_count": 27,
   "metadata": {
    "collapsed": false
   },
   "outputs": [
    {
     "name": "stderr",
     "output_type": "stream",
     "text": [
      "/home/appreciate/Dropbox (MIT)/rumor-spreading-modeling/experiments/dallinger/spaceship-v2/utils.py:135: FutureWarning: pd.rolling_sum is deprecated for ndarrays and will be removed in a future version\n",
      "  x = net_evidence[i]\n"
     ]
    }
   ],
   "source": [
    "for i, experiments in enumerate(experiment_sets):\n",
    "    \n",
    "    all_df = pd.DataFrame()\n",
    "\n",
    "    for in_dir in experiments:\n",
    "    \n",
    "        n_evidence = n_evidences[i]\n",
    "        exp_name = names[i] \n",
    "        part_prob = part_probs[i]\n",
    "        \n",
    "        \n",
    "        ### Read Data ###\n",
    "        \n",
    "        data,fails,parts = utils.get_data(in_dir, n_evidence)          \n",
    "        df = utils.get_parsed_data(data, fails, parts, part_prob)\n",
    "        \n",
    "        df['Experiment'] = exp_name   \n",
    "        df['exp_id'] = in_dir\n",
    "        df['nets'] = df['nets'].astype('str') + '-' + in_dir  \n",
    "        \n",
    "        all_df = pd.concat([all_df, df])\n",
    "        \n",
    "        \n",
    "        ### Fit Regression ###\n",
    "        \n",
    "        stats.linregress(list(df['net_evidences']),list(df['final_pops']))\n",
    "        \n",
    "\n",
    "        \n",
    "        \n",
    "    "
   ]
  },
  {
   "cell_type": "code",
   "execution_count": null,
   "metadata": {
    "collapsed": false
   },
   "outputs": [],
   "source": []
  },
  {
   "cell_type": "code",
   "execution_count": null,
   "metadata": {
    "collapsed": false
   },
   "outputs": [],
   "source": []
  },
  {
   "cell_type": "code",
   "execution_count": null,
   "metadata": {
    "collapsed": true
   },
   "outputs": [],
   "source": []
  }
 ],
 "metadata": {
  "kernelspec": {
   "display_name": "Python 3",
   "language": "python",
   "name": "python3"
  },
  "language_info": {
   "codemirror_mode": {
    "name": "ipython",
    "version": 3
   },
   "file_extension": ".py",
   "mimetype": "text/x-python",
   "name": "python",
   "nbconvert_exporter": "python",
   "pygments_lexer": "ipython3",
   "version": "3.6.0"
  }
 },
 "nbformat": 4,
 "nbformat_minor": 2
}
